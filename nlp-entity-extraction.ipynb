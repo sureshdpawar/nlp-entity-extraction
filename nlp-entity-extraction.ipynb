{
 "metadata": {
  "kernelspec": {
   "display_name": "Python 3",
   "language": "python",
   "name": "python3"
  },
  "language_info": {
   "name": "python",
   "version": "3.10.13",
   "mimetype": "text/x-python",
   "codemirror_mode": {
    "name": "ipython",
    "version": 3
   },
   "pygments_lexer": "ipython3",
   "nbconvert_exporter": "python",
   "file_extension": ".py"
  },
  "kaggle": {
   "accelerator": "none",
   "dataSources": [
    {
     "sourceId": 7527234,
     "sourceType": "datasetVersion",
     "datasetId": 4384248
    }
   ],
   "dockerImageVersionId": 30646,
   "isInternetEnabled": true,
   "language": "python",
   "sourceType": "notebook",
   "isGpuEnabled": false
  }
 },
 "nbformat_minor": 4,
 "nbformat": 4,
 "cells": [
  {
   "cell_type": "code",
   "source": [
    "pip install --upgrade pdfminer.six"
   ],
   "metadata": {
    "execution": {
     "iopub.status.busy": "2024-02-01T05:29:59.910544Z",
     "iopub.execute_input": "2024-02-01T05:29:59.911772Z",
     "iopub.status.idle": "2024-02-01T05:30:15.050244Z",
     "shell.execute_reply.started": "2024-02-01T05:29:59.911732Z",
     "shell.execute_reply": "2024-02-01T05:30:15.048864Z"
    },
    "trusted": true
   },
   "execution_count": 1,
   "outputs": [
    {
     "name": "stdout",
     "text": "Collecting pdfminer.six\n  Downloading pdfminer.six-20231228-py3-none-any.whl.metadata (4.2 kB)\nRequirement already satisfied: charset-normalizer>=2.0.0 in /opt/conda/lib/python3.10/site-packages (from pdfminer.six) (3.3.2)\nRequirement already satisfied: cryptography>=36.0.0 in /opt/conda/lib/python3.10/site-packages (from pdfminer.six) (41.0.7)\nRequirement already satisfied: cffi>=1.12 in /opt/conda/lib/python3.10/site-packages (from cryptography>=36.0.0->pdfminer.six) (1.16.0)\nRequirement already satisfied: pycparser in /opt/conda/lib/python3.10/site-packages (from cffi>=1.12->cryptography>=36.0.0->pdfminer.six) (2.21)\nDownloading pdfminer.six-20231228-py3-none-any.whl (5.6 MB)\n\u001B[2K   \u001B[90m━━━━━━━━━━━━━━━━━━━━━━━━━━━━━━━━━━━━━━━━\u001B[0m \u001B[32m5.6/5.6 MB\u001B[0m \u001B[31m38.8 MB/s\u001B[0m eta \u001B[36m0:00:00\u001B[0m00:01\u001B[0m00:01\u001B[0m\n\u001B[?25hInstalling collected packages: pdfminer.six\nSuccessfully installed pdfminer.six-20231228\nNote: you may need to restart the kernel to use updated packages.\n",
     "output_type": "stream"
    }
   ]
  },
  {
   "cell_type": "code",
   "source": [
    "from pdfminer.pdfinterp import PDFResourceManager, PDFPageInterpreter\n",
    "from pdfminer.converter import TextConverter\n",
    "from pdfminer.layout import LAParams\n",
    "from pdfminer.pdfpage import PDFPage\n",
    "from io import StringIO"
   ],
   "metadata": {
    "execution": {
     "iopub.status.busy": "2024-02-01T05:30:26.834335Z",
     "iopub.execute_input": "2024-02-01T05:30:26.834743Z",
     "iopub.status.idle": "2024-02-01T05:30:26.840722Z",
     "shell.execute_reply.started": "2024-02-01T05:30:26.834710Z",
     "shell.execute_reply": "2024-02-01T05:30:26.839718Z"
    },
    "trusted": true
   },
   "execution_count": 3,
   "outputs": []
  },
  {
   "cell_type": "code",
   "source": [
    "def convert_pdf_to_txt(path):\n",
    "    rsrcmgr = PDFResourceManager()\n",
    "    retstr = StringIO()\n",
    "    codec = 'utf-8'\n",
    "    laparams = LAParams()\n",
    "    device = TextConverter(rsrcmgr, retstr, codec=codec, laparams=laparams)\n",
    "    fp = open(path, 'rb')\n",
    "    interpreter = PDFPageInterpreter(rsrcmgr, device)\n",
    "    password = \"\"\n",
    "    maxpages = 0\n",
    "    caching = True\n",
    "    pagenos=set()\n",
    "\n",
    "    for page in PDFPage.get_pages(fp, pagenos, maxpages=maxpages, password=password,caching=caching, check_extractable=True):\n",
    "        interpreter.process_page(page)\n",
    "\n",
    "    text = retstr.getvalue()\n",
    "\n",
    "    fp.close()\n",
    "    device.close()\n",
    "    retstr.close()\n",
    "    return text"
   ],
   "metadata": {
    "execution": {
     "iopub.status.busy": "2024-02-01T05:30:29.500619Z",
     "iopub.execute_input": "2024-02-01T05:30:29.501044Z",
     "iopub.status.idle": "2024-02-01T05:30:29.509772Z",
     "shell.execute_reply.started": "2024-02-01T05:30:29.501013Z",
     "shell.execute_reply": "2024-02-01T05:30:29.508300Z"
    },
    "trusted": true
   },
   "execution_count": 4,
   "outputs": []
  },
  {
   "cell_type": "code",
   "source": [
    "import re\n",
    "import nltk\n",
    "from nltk.tokenize import word_tokenize\n",
    "from nltk.tag import pos_tag\n",
    "from nltk import word_tokenize, pos_tag, ne_chunk"
   ],
   "metadata": {
    "execution": {
     "iopub.status.busy": "2024-02-01T05:30:32.537178Z",
     "iopub.execute_input": "2024-02-01T05:30:32.537648Z",
     "iopub.status.idle": "2024-02-01T05:30:34.093791Z",
     "shell.execute_reply.started": "2024-02-01T05:30:32.537615Z",
     "shell.execute_reply": "2024-02-01T05:30:34.092349Z"
    },
    "trusted": true
   },
   "execution_count": 5,
   "outputs": []
  },
  {
   "cell_type": "code",
   "source": [
    "def getPhone(text):\n",
    "    try:\n",
    "        pattern = re.compile(r'([+(]?\\d+[)\\-]?[ \\t\\r\\f\\v]*[(]?\\d{2,}[()\\-]?[ \\t\\r\\f\\v]*\\d{2,}[()\\-]?[ \\t\\r\\f\\v]*\\d*[ \\t\\r\\f\\v]*\\d*[ \\t\\r\\f\\v]*)')\n",
    "        phone = pattern.findall(text)\n",
    "        phone = [re.sub(r'[,.]', '', el) for el in phone if len(re.sub(r'[()\\-.,\\s+]', '', el))>6]\n",
    "        phone = [re.sub(r'\\D$', '', el).strip() for el in phone]\n",
    "        phone = [el for el in phone if len(re.sub(r'\\D','',el)) <= 13 and len(re.sub(r'\\D','',el))>=10]\n",
    "        return phone[0]\n",
    "    except:\n",
    "        return None"
   ],
   "metadata": {
    "execution": {
     "iopub.status.busy": "2024-02-01T05:30:36.104942Z",
     "iopub.execute_input": "2024-02-01T05:30:36.105489Z",
     "iopub.status.idle": "2024-02-01T05:30:36.114433Z",
     "shell.execute_reply.started": "2024-02-01T05:30:36.105455Z",
     "shell.execute_reply": "2024-02-01T05:30:36.112874Z"
    },
    "trusted": true
   },
   "execution_count": 6,
   "outputs": []
  },
  {
   "cell_type": "code",
   "source": [
    "def getEmail(text): \n",
    "    \n",
    "    try:\n",
    "        pattern = re.compile(r'\\S*@\\S*')\n",
    "        email = pattern.findall(text)\n",
    "        return email[0]\n",
    "    except:\n",
    "        return None"
   ],
   "metadata": {
    "execution": {
     "iopub.status.busy": "2024-02-01T05:30:38.512440Z",
     "iopub.execute_input": "2024-02-01T05:30:38.512842Z",
     "iopub.status.idle": "2024-02-01T05:30:38.519642Z",
     "shell.execute_reply.started": "2024-02-01T05:30:38.512814Z",
     "shell.execute_reply": "2024-02-01T05:30:38.518245Z"
    },
    "trusted": true
   },
   "execution_count": 7,
   "outputs": []
  },
  {
   "cell_type": "code",
   "source": [
    "def getExperience(sentences):\n",
    "    try:\n",
    "        sen=[]\n",
    "        z=0\n",
    "        for words in sentences:\n",
    "            for i in range(len(words)):\n",
    "                if(words[i][0].lower()=='experience') or (words[i][0].lower()=='internships'):\n",
    "                    index=[z,i]\n",
    "                    break\n",
    "            z+=1\n",
    "        \n",
    "        exp=[]\n",
    "        for i in sentences[index[0]][index[1]+1:]:\n",
    "            if i[0].isalpha() and i[1]=='NNP':\n",
    "                exp.append(i[0])\n",
    "        \n",
    "        return exp        \n",
    "        \n",
    "    except:\n",
    "        return None"
   ],
   "metadata": {
    "execution": {
     "iopub.status.busy": "2024-02-01T05:30:40.584952Z",
     "iopub.execute_input": "2024-02-01T05:30:40.585476Z",
     "iopub.status.idle": "2024-02-01T05:30:40.599295Z",
     "shell.execute_reply.started": "2024-02-01T05:30:40.585437Z",
     "shell.execute_reply": "2024-02-01T05:30:40.597913Z"
    },
    "trusted": true
   },
   "execution_count": 8,
   "outputs": []
  },
  {
   "cell_type": "code",
   "source": [
    "def getQual(sentences):\n",
    "    sen=[]\n",
    "    z=0\n",
    "    i2=[]\n",
    "    i1=[]\n",
    "    quals=['school','graduated','graduation','education','college','vidyalaya','vishwavidyalaya','university','mahavidyalaya','institute']\n",
    "    for words in sentences:\n",
    "        for i in range(len(words)):\n",
    "            if(words[i][0].lower() in quals):\n",
    "                i1.append(i)\n",
    "                i2.append(z)\n",
    "        z+=1\n",
    "\n",
    "    i2=list(dict.fromkeys(i2))\n",
    "\n",
    "    qual=[]\n",
    "    for i in i2:\n",
    "        if i==i2[0]:\n",
    "            qual.append((\" \".join([sentences[i][k][0] for k in range(i1[0]+1, len(sentences[i]))])))\n",
    "        else:\n",
    "            qual.append((\" \".join([sentences[i][k][0] for k in range(len(sentences[i]))])))\n",
    "        \n",
    "        \n",
    "    return qual"
   ],
   "metadata": {
    "execution": {
     "iopub.status.busy": "2024-02-01T05:30:43.102278Z",
     "iopub.execute_input": "2024-02-01T05:30:43.103005Z",
     "iopub.status.idle": "2024-02-01T05:30:43.115187Z",
     "shell.execute_reply.started": "2024-02-01T05:30:43.102951Z",
     "shell.execute_reply": "2024-02-01T05:30:43.113950Z"
    },
    "trusted": true
   },
   "execution_count": 9,
   "outputs": []
  },
  {
   "cell_type": "code",
   "source": [
    "def getSkills(sentences):\n",
    "    try:\n",
    "        sen=[]\n",
    "        z=0\n",
    "        for words in sentences:\n",
    "            for i in range(len(words)):\n",
    "                if(words[i][0].lower()=='skills') and words[i][1]=='NNP':\n",
    "                    index =[z,i]\n",
    "                    break\n",
    "            z+=1\n",
    "\n",
    "        skills=[]\n",
    "        for i in sentences[index[0]][index[1]+1:]:\n",
    "            if i[0].isalpha() and i[1]=='NNP':\n",
    "                skills.append(i[0])\n",
    "\n",
    "        return skills\n",
    "    except:\n",
    "        return None"
   ],
   "metadata": {
    "execution": {
     "iopub.status.busy": "2024-02-01T05:30:46.221022Z",
     "iopub.execute_input": "2024-02-01T05:30:46.221399Z",
     "iopub.status.idle": "2024-02-01T05:30:46.229036Z",
     "shell.execute_reply.started": "2024-02-01T05:30:46.221372Z",
     "shell.execute_reply": "2024-02-01T05:30:46.227800Z"
    },
    "trusted": true
   },
   "execution_count": 10,
   "outputs": []
  },
  {
   "cell_type": "code",
   "source": [
    "def getCertification(sentences):\n",
    "    try:\n",
    "        sen=[]\n",
    "        z=0\n",
    "        global index\n",
    "        for words in sentences:\n",
    "            for i in range(len(words)):\n",
    "                if(words[i][0].lower()=='certifications'):\n",
    "                    index=[z,i]\n",
    "                    break\n",
    "            z+=1\n",
    "\n",
    "        certis=\" \".join([sentences[index[0]][k][0] for k in range(1,len(sentences[index[0]]))])\n",
    "\n",
    "        return certis\n",
    "    except:\n",
    "        return None"
   ],
   "metadata": {
    "execution": {
     "iopub.status.busy": "2024-02-01T05:30:49.011651Z",
     "iopub.execute_input": "2024-02-01T05:30:49.012092Z",
     "iopub.status.idle": "2024-02-01T05:30:49.018832Z",
     "shell.execute_reply.started": "2024-02-01T05:30:49.012059Z",
     "shell.execute_reply": "2024-02-01T05:30:49.017966Z"
    },
    "trusted": true
   },
   "execution_count": 11,
   "outputs": []
  },
  {
   "cell_type": "code",
   "source": [
    "def getDetails(text):\n",
    "    \n",
    "    sentences=nltk.sent_tokenize(text)\n",
    "    sentences=[nltk.word_tokenize(el) for el in sentences]\n",
    "    sentences=[nltk.pos_tag(el) for el in sentences]\n",
    "    phone=getPhone(text)\n",
    "    mail=getEmail(text)\n",
    "    exp=getExperience(sentences)\n",
    "    quals=getQual(sentences)\n",
    "    skills=getSkills(sentences)\n",
    "    certis=getCertification(sentences)\n",
    "    dict={\n",
    "        'Phone_no': phone,\n",
    "        'Email':mail,\n",
    "        'Experience': exp,\n",
    "        'Qualification':quals,\n",
    "        'Skills': skills,\n",
    "        'Certifications': certis\n",
    "    }\n",
    "    return dict"
   ],
   "metadata": {
    "execution": {
     "iopub.status.busy": "2024-02-01T05:30:51.030990Z",
     "iopub.execute_input": "2024-02-01T05:30:51.031461Z",
     "iopub.status.idle": "2024-02-01T05:30:51.039565Z",
     "shell.execute_reply.started": "2024-02-01T05:30:51.031427Z",
     "shell.execute_reply": "2024-02-01T05:30:51.038313Z"
    },
    "trusted": true
   },
   "execution_count": 12,
   "outputs": []
  },
  {
   "cell_type": "code",
   "source": [
    "text=convert_pdf_to_txt(\"/kaggle/input/re-1234/Resume_Suresh_Pawar.pdf\")   # Enter the path to the resume here"
   ],
   "metadata": {
    "execution": {
     "iopub.status.busy": "2024-02-01T05:34:48.664943Z",
     "iopub.execute_input": "2024-02-01T05:34:48.665397Z",
     "iopub.status.idle": "2024-02-01T05:34:49.241954Z",
     "shell.execute_reply.started": "2024-02-01T05:34:48.665367Z",
     "shell.execute_reply": "2024-02-01T05:34:49.241061Z"
    },
    "trusted": true
   },
   "execution_count": 14,
   "outputs": []
  },
  {
   "cell_type": "code",
   "source": [
    "details=getDetails(text)"
   ],
   "metadata": {
    "execution": {
     "iopub.status.busy": "2024-02-01T05:34:51.625106Z",
     "iopub.execute_input": "2024-02-01T05:34:51.625613Z",
     "iopub.status.idle": "2024-02-01T05:34:51.920539Z",
     "shell.execute_reply.started": "2024-02-01T05:34:51.625573Z",
     "shell.execute_reply": "2024-02-01T05:34:51.919182Z"
    },
    "trusted": true
   },
   "execution_count": 15,
   "outputs": []
  },
  {
   "cell_type": "code",
   "source": [
    "details.keys()"
   ],
   "metadata": {
    "execution": {
     "iopub.status.busy": "2024-02-01T05:34:54.975525Z",
     "iopub.execute_input": "2024-02-01T05:34:54.975930Z",
     "iopub.status.idle": "2024-02-01T05:34:54.989192Z",
     "shell.execute_reply.started": "2024-02-01T05:34:54.975899Z",
     "shell.execute_reply": "2024-02-01T05:34:54.985972Z"
    },
    "trusted": true
   },
   "execution_count": 16,
   "outputs": [
    {
     "execution_count": 16,
     "output_type": "execute_result",
     "data": {
      "text/plain": "dict_keys(['Phone_no', 'Email', 'Experience', 'Qualification', 'Skills', 'Certifications'])"
     },
     "metadata": {}
    }
   ]
  },
  {
   "cell_type": "code",
   "source": [
    "details"
   ],
   "metadata": {
    "execution": {
     "iopub.status.busy": "2024-02-01T05:35:02.549491Z",
     "iopub.execute_input": "2024-02-01T05:35:02.549901Z",
     "iopub.status.idle": "2024-02-01T05:35:02.558059Z",
     "shell.execute_reply.started": "2024-02-01T05:35:02.549857Z",
     "shell.execute_reply": "2024-02-01T05:35:02.556941Z"
    },
    "trusted": true
   },
   "execution_count": 18,
   "outputs": [
    {
     "execution_count": 18,
     "output_type": "execute_result",
     "data": {
      "text/plain": "{'Phone_no': '2014679715',\n 'Email': 'sureshkumar.pawar@gmail.com',\n 'Experience': [],\n 'Qualification': ['Bachelor of Computer Science and Engineering , SSGM College Of Engineering 0 7 / 2 0 0 0 - 0 7 / 2 0 0 4 LINKS LinkedIn'],\n 'Skills': None,\n 'Certifications': None}"
     },
     "metadata": {}
    }
   ]
  }
 ]
}
